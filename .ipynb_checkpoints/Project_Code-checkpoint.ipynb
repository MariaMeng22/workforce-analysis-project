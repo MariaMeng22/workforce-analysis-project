{
 "cells": [
  {
   "cell_type": "code",
   "execution_count": null,
   "id": "5c926ecd-1d3c-426e-b63f-1a74615eff75",
   "metadata": {},
   "outputs": [],
   "source": [
    "import numpy as np"
   ]
  },
  {
   "cell_type": "code",
   "execution_count": 1,
   "id": "1626d7ae-f1fe-44fa-b9bd-ed7b25a66b3b",
   "metadata": {},
   "outputs": [],
   "source": [
    "import pandas as pd"
   ]
  },
  {
   "cell_type": "code",
   "execution_count": 2,
   "id": "4eeadae8-b631-4607-a961-91dbd5b3634e",
   "metadata": {},
   "outputs": [],
   "source": [
    "file_path = \"C:/Users/Owner/Project2502/Data.csv\""
   ]
  },
  {
   "cell_type": "code",
   "execution_count": 3,
   "id": "20ce432a-2a90-4025-98f8-a110bb7c10ab",
   "metadata": {},
   "outputs": [],
   "source": [
    "df = pd.read_csv(file_path)"
   ]
  },
  {
   "cell_type": "code",
   "execution_count": 4,
   "id": "71efed10-2f7a-416e-a617-40027304cb7f",
   "metadata": {},
   "outputs": [
    {
     "data": {
      "text/plain": [
       "Index(['Month', 'FullTime', 'PartTime', 'Intern', 'Contract', 'Terminate',\n",
       "       'Operational Cost'],\n",
       "      dtype='object')"
      ]
     },
     "execution_count": 4,
     "metadata": {},
     "output_type": "execute_result"
    }
   ],
   "source": [
    "df.columns"
   ]
  },
  {
   "cell_type": "code",
   "execution_count": 5,
   "id": "04c5cd7b-c520-4eea-af54-7e957e7aba05",
   "metadata": {},
   "outputs": [],
   "source": [
    "df['Headcount'] = df['FullTime']+df['PartTime']+df['Intern']+df['Contract']"
   ]
  },
  {
   "cell_type": "code",
   "execution_count": 6,
   "id": "10ea22ba-c2f5-4cac-80a6-76b52720eeca",
   "metadata": {
    "scrolled": true
   },
   "outputs": [],
   "source": [
    "# --- Employee Category Proportions ---\n",
    "df[\"FullTime_Prop\"] = df[\"FullTime\"] / df[\"Headcount\"]\n",
    "df[\"PartTime_Prop\"] = df[\"PartTime\"] / df[\"Headcount\"]\n",
    "df[\"Intern_Prop\"] = df[\"Intern\"] / df[\"Headcount\"]\n",
    "df[\"Contract_Prop\"] = df[\"Contract\"] / df[\"Headcount\"]\n"
   ]
  },
  {
   "cell_type": "code",
   "execution_count": 7,
   "id": "12595196-6d17-4c06-8594-844db5d3c183",
   "metadata": {},
   "outputs": [
    {
     "data": {
      "text/html": [
       "<div>\n",
       "<style scoped>\n",
       "    .dataframe tbody tr th:only-of-type {\n",
       "        vertical-align: middle;\n",
       "    }\n",
       "\n",
       "    .dataframe tbody tr th {\n",
       "        vertical-align: top;\n",
       "    }\n",
       "\n",
       "    .dataframe thead th {\n",
       "        text-align: right;\n",
       "    }\n",
       "</style>\n",
       "<table border=\"1\" class=\"dataframe\">\n",
       "  <thead>\n",
       "    <tr style=\"text-align: right;\">\n",
       "      <th></th>\n",
       "      <th>Month</th>\n",
       "      <th>FullTime</th>\n",
       "      <th>PartTime</th>\n",
       "      <th>Intern</th>\n",
       "      <th>Contract</th>\n",
       "      <th>Terminate</th>\n",
       "      <th>Operational Cost</th>\n",
       "      <th>Headcount</th>\n",
       "      <th>FullTime_Prop</th>\n",
       "      <th>PartTime_Prop</th>\n",
       "      <th>Intern_Prop</th>\n",
       "      <th>Contract_Prop</th>\n",
       "    </tr>\n",
       "  </thead>\n",
       "  <tbody>\n",
       "    <tr>\n",
       "      <th>0</th>\n",
       "      <td>201901</td>\n",
       "      <td>240422</td>\n",
       "      <td>16413</td>\n",
       "      <td>835.0</td>\n",
       "      <td>38813</td>\n",
       "      <td>2360</td>\n",
       "      <td>5,367,754,214.01</td>\n",
       "      <td>296483.0</td>\n",
       "      <td>0.810913</td>\n",
       "      <td>0.055359</td>\n",
       "      <td>0.002816</td>\n",
       "      <td>0.130911</td>\n",
       "    </tr>\n",
       "    <tr>\n",
       "      <th>1</th>\n",
       "      <td>201902</td>\n",
       "      <td>239957</td>\n",
       "      <td>16601</td>\n",
       "      <td>947.5</td>\n",
       "      <td>39278</td>\n",
       "      <td>2263</td>\n",
       "      <td>5,453,119,475.99</td>\n",
       "      <td>296783.5</td>\n",
       "      <td>0.808525</td>\n",
       "      <td>0.055936</td>\n",
       "      <td>0.003193</td>\n",
       "      <td>0.132346</td>\n",
       "    </tr>\n",
       "    <tr>\n",
       "      <th>2</th>\n",
       "      <td>201903</td>\n",
       "      <td>239491</td>\n",
       "      <td>16789</td>\n",
       "      <td>1060.0</td>\n",
       "      <td>39743</td>\n",
       "      <td>3966</td>\n",
       "      <td>5,527,625,881.98</td>\n",
       "      <td>297083.0</td>\n",
       "      <td>0.806142</td>\n",
       "      <td>0.056513</td>\n",
       "      <td>0.003568</td>\n",
       "      <td>0.133777</td>\n",
       "    </tr>\n",
       "    <tr>\n",
       "      <th>3</th>\n",
       "      <td>201904</td>\n",
       "      <td>240027</td>\n",
       "      <td>16749</td>\n",
       "      <td>1717.0</td>\n",
       "      <td>40032</td>\n",
       "      <td>3873</td>\n",
       "      <td>5,367,286,525.00</td>\n",
       "      <td>298525.0</td>\n",
       "      <td>0.804043</td>\n",
       "      <td>0.056106</td>\n",
       "      <td>0.005752</td>\n",
       "      <td>0.134099</td>\n",
       "    </tr>\n",
       "    <tr>\n",
       "      <th>4</th>\n",
       "      <td>201905</td>\n",
       "      <td>240027</td>\n",
       "      <td>16749</td>\n",
       "      <td>1717.0</td>\n",
       "      <td>40032</td>\n",
       "      <td>4029</td>\n",
       "      <td>5,427,404,579.99</td>\n",
       "      <td>298525.0</td>\n",
       "      <td>0.804043</td>\n",
       "      <td>0.056106</td>\n",
       "      <td>0.005752</td>\n",
       "      <td>0.134099</td>\n",
       "    </tr>\n",
       "  </tbody>\n",
       "</table>\n",
       "</div>"
      ],
      "text/plain": [
       "    Month  FullTime  PartTime  Intern  Contract  Terminate  Operational Cost  \\\n",
       "0  201901    240422     16413   835.0     38813       2360  5,367,754,214.01   \n",
       "1  201902    239957     16601   947.5     39278       2263  5,453,119,475.99   \n",
       "2  201903    239491     16789  1060.0     39743       3966  5,527,625,881.98   \n",
       "3  201904    240027     16749  1717.0     40032       3873  5,367,286,525.00   \n",
       "4  201905    240027     16749  1717.0     40032       4029  5,427,404,579.99   \n",
       "\n",
       "   Headcount  FullTime_Prop  PartTime_Prop  Intern_Prop  Contract_Prop  \n",
       "0   296483.0       0.810913       0.055359     0.002816       0.130911  \n",
       "1   296783.5       0.808525       0.055936     0.003193       0.132346  \n",
       "2   297083.0       0.806142       0.056513     0.003568       0.133777  \n",
       "3   298525.0       0.804043       0.056106     0.005752       0.134099  \n",
       "4   298525.0       0.804043       0.056106     0.005752       0.134099  "
      ]
     },
     "execution_count": 7,
     "metadata": {},
     "output_type": "execute_result"
    }
   ],
   "source": [
    "df.head()"
   ]
  },
  {
   "cell_type": "code",
   "execution_count": 8,
   "id": "5ecc1758-7ccf-4c81-a24b-001f4eed7992",
   "metadata": {},
   "outputs": [],
   "source": [
    "# --- Turnover Rate Calculation ---\n",
    "df[\"Turnover_Rate\"] = df[\"Terminate\"] / df[\"Headcount\"]"
   ]
  },
  {
   "cell_type": "code",
   "execution_count": 9,
   "id": "9c12059c-72af-43c4-bb6c-338cf950f6ff",
   "metadata": {},
   "outputs": [],
   "source": [
    "df[\"Month\"] = df[\"Month\"].astype(str)\n",
    "\n",
    "# Modify the encoding function to use string comparisons directly\n",
    "def encode_pandemic_period(month):\n",
    "    if \"201901\" <= month <= \"201912\":\n",
    "        return 0  # Pre-pandemic\n",
    "    elif \"202001\" <= month <= \"202112\":\n",
    "        return 1  # Pandemic\n",
    "    else:\n",
    "        return 2  # Post-pandemic\n",
    "\n",
    "# Apply the encoding function to the 'Month' column\n",
    "df[\"Pandemic_Period\"] = df[\"Month\"].apply(encode_pandemic_period)"
   ]
  },
  {
   "cell_type": "code",
   "execution_count": 10,
   "id": "2f4b5c02-332c-4a7b-9eab-d50c306bc66c",
   "metadata": {},
   "outputs": [
    {
     "data": {
      "text/html": [
       "<div>\n",
       "<style scoped>\n",
       "    .dataframe tbody tr th:only-of-type {\n",
       "        vertical-align: middle;\n",
       "    }\n",
       "\n",
       "    .dataframe tbody tr th {\n",
       "        vertical-align: top;\n",
       "    }\n",
       "\n",
       "    .dataframe thead th {\n",
       "        text-align: right;\n",
       "    }\n",
       "</style>\n",
       "<table border=\"1\" class=\"dataframe\">\n",
       "  <thead>\n",
       "    <tr style=\"text-align: right;\">\n",
       "      <th></th>\n",
       "      <th>Month</th>\n",
       "      <th>FullTime</th>\n",
       "      <th>PartTime</th>\n",
       "      <th>Intern</th>\n",
       "      <th>Contract</th>\n",
       "      <th>Terminate</th>\n",
       "      <th>Operational Cost</th>\n",
       "      <th>Headcount</th>\n",
       "      <th>FullTime_Prop</th>\n",
       "      <th>PartTime_Prop</th>\n",
       "      <th>Intern_Prop</th>\n",
       "      <th>Contract_Prop</th>\n",
       "      <th>Turnover_Rate</th>\n",
       "      <th>Pandemic_Period</th>\n",
       "    </tr>\n",
       "  </thead>\n",
       "  <tbody>\n",
       "    <tr>\n",
       "      <th>0</th>\n",
       "      <td>201901</td>\n",
       "      <td>240422</td>\n",
       "      <td>16413</td>\n",
       "      <td>835.0</td>\n",
       "      <td>38813</td>\n",
       "      <td>2360</td>\n",
       "      <td>5,367,754,214.01</td>\n",
       "      <td>296483.0</td>\n",
       "      <td>0.810913</td>\n",
       "      <td>0.055359</td>\n",
       "      <td>0.002816</td>\n",
       "      <td>0.130911</td>\n",
       "      <td>0.007960</td>\n",
       "      <td>0</td>\n",
       "    </tr>\n",
       "    <tr>\n",
       "      <th>1</th>\n",
       "      <td>201902</td>\n",
       "      <td>239957</td>\n",
       "      <td>16601</td>\n",
       "      <td>947.5</td>\n",
       "      <td>39278</td>\n",
       "      <td>2263</td>\n",
       "      <td>5,453,119,475.99</td>\n",
       "      <td>296783.5</td>\n",
       "      <td>0.808525</td>\n",
       "      <td>0.055936</td>\n",
       "      <td>0.003193</td>\n",
       "      <td>0.132346</td>\n",
       "      <td>0.007625</td>\n",
       "      <td>0</td>\n",
       "    </tr>\n",
       "    <tr>\n",
       "      <th>2</th>\n",
       "      <td>201903</td>\n",
       "      <td>239491</td>\n",
       "      <td>16789</td>\n",
       "      <td>1060.0</td>\n",
       "      <td>39743</td>\n",
       "      <td>3966</td>\n",
       "      <td>5,527,625,881.98</td>\n",
       "      <td>297083.0</td>\n",
       "      <td>0.806142</td>\n",
       "      <td>0.056513</td>\n",
       "      <td>0.003568</td>\n",
       "      <td>0.133777</td>\n",
       "      <td>0.013350</td>\n",
       "      <td>0</td>\n",
       "    </tr>\n",
       "    <tr>\n",
       "      <th>3</th>\n",
       "      <td>201904</td>\n",
       "      <td>240027</td>\n",
       "      <td>16749</td>\n",
       "      <td>1717.0</td>\n",
       "      <td>40032</td>\n",
       "      <td>3873</td>\n",
       "      <td>5,367,286,525.00</td>\n",
       "      <td>298525.0</td>\n",
       "      <td>0.804043</td>\n",
       "      <td>0.056106</td>\n",
       "      <td>0.005752</td>\n",
       "      <td>0.134099</td>\n",
       "      <td>0.012974</td>\n",
       "      <td>0</td>\n",
       "    </tr>\n",
       "    <tr>\n",
       "      <th>4</th>\n",
       "      <td>201905</td>\n",
       "      <td>240027</td>\n",
       "      <td>16749</td>\n",
       "      <td>1717.0</td>\n",
       "      <td>40032</td>\n",
       "      <td>4029</td>\n",
       "      <td>5,427,404,579.99</td>\n",
       "      <td>298525.0</td>\n",
       "      <td>0.804043</td>\n",
       "      <td>0.056106</td>\n",
       "      <td>0.005752</td>\n",
       "      <td>0.134099</td>\n",
       "      <td>0.013496</td>\n",
       "      <td>0</td>\n",
       "    </tr>\n",
       "  </tbody>\n",
       "</table>\n",
       "</div>"
      ],
      "text/plain": [
       "    Month  FullTime  PartTime  Intern  Contract  Terminate  Operational Cost  \\\n",
       "0  201901    240422     16413   835.0     38813       2360  5,367,754,214.01   \n",
       "1  201902    239957     16601   947.5     39278       2263  5,453,119,475.99   \n",
       "2  201903    239491     16789  1060.0     39743       3966  5,527,625,881.98   \n",
       "3  201904    240027     16749  1717.0     40032       3873  5,367,286,525.00   \n",
       "4  201905    240027     16749  1717.0     40032       4029  5,427,404,579.99   \n",
       "\n",
       "   Headcount  FullTime_Prop  PartTime_Prop  Intern_Prop  Contract_Prop  \\\n",
       "0   296483.0       0.810913       0.055359     0.002816       0.130911   \n",
       "1   296783.5       0.808525       0.055936     0.003193       0.132346   \n",
       "2   297083.0       0.806142       0.056513     0.003568       0.133777   \n",
       "3   298525.0       0.804043       0.056106     0.005752       0.134099   \n",
       "4   298525.0       0.804043       0.056106     0.005752       0.134099   \n",
       "\n",
       "   Turnover_Rate  Pandemic_Period  \n",
       "0       0.007960                0  \n",
       "1       0.007625                0  \n",
       "2       0.013350                0  \n",
       "3       0.012974                0  \n",
       "4       0.013496                0  "
      ]
     },
     "execution_count": 10,
     "metadata": {},
     "output_type": "execute_result"
    }
   ],
   "source": [
    "df.head()"
   ]
  },
  {
   "cell_type": "code",
   "execution_count": 11,
   "id": "a6269cbf-d2ef-42d1-abe7-640e8c007a8e",
   "metadata": {
    "scrolled": true
   },
   "outputs": [
    {
     "data": {
      "text/plain": [
       "array([0, 1, 2], dtype=int64)"
      ]
     },
     "execution_count": 11,
     "metadata": {},
     "output_type": "execute_result"
    }
   ],
   "source": [
    "df.Pandemic_Period.unique()"
   ]
  },
  {
   "cell_type": "code",
   "execution_count": null,
   "id": "8fd1c778-2d42-4264-9a06-47b42960377a",
   "metadata": {},
   "outputs": [],
   "source": []
  },
  {
   "cell_type": "code",
   "execution_count": 12,
   "id": "e1c3fd32-6383-4a3c-bf22-d400c9cb199c",
   "metadata": {},
   "outputs": [],
   "source": [
    "# Create dummy columns for Pandemic_Period\n",
    "df = pd.get_dummies(df, columns=[\"Pandemic_Period\"], drop_first=False)"
   ]
  },
  {
   "cell_type": "code",
   "execution_count": 14,
   "id": "884ae7da-2483-4455-9ac3-e6429f3284ea",
   "metadata": {},
   "outputs": [],
   "source": [
    "# Convert the dummy variables to integer if they're not already\n",
    "df[\"Pandemic_Period_0\"] = df[\"Pandemic_Period_0\"].astype(int)\n",
    "df[\"Pandemic_Period_1\"] = df[\"Pandemic_Period_1\"].astype(int)\n",
    "df[\"Pandemic_Period_2\"] = df[\"Pandemic_Period_2\"].astype(int)\n"
   ]
  },
  {
   "cell_type": "code",
   "execution_count": null,
   "id": "3ea3e657-c293-4f9a-ab18-386d0b9c0906",
   "metadata": {},
   "outputs": [],
   "source": []
  },
  {
   "cell_type": "code",
   "execution_count": 15,
   "id": "d9429939-f804-4b5e-9aa9-604d65fc1c71",
   "metadata": {
    "scrolled": true
   },
   "outputs": [
    {
     "data": {
      "text/html": [
       "<div>\n",
       "<style scoped>\n",
       "    .dataframe tbody tr th:only-of-type {\n",
       "        vertical-align: middle;\n",
       "    }\n",
       "\n",
       "    .dataframe tbody tr th {\n",
       "        vertical-align: top;\n",
       "    }\n",
       "\n",
       "    .dataframe thead th {\n",
       "        text-align: right;\n",
       "    }\n",
       "</style>\n",
       "<table border=\"1\" class=\"dataframe\">\n",
       "  <thead>\n",
       "    <tr style=\"text-align: right;\">\n",
       "      <th></th>\n",
       "      <th>Month</th>\n",
       "      <th>FullTime</th>\n",
       "      <th>PartTime</th>\n",
       "      <th>Intern</th>\n",
       "      <th>Contract</th>\n",
       "      <th>Terminate</th>\n",
       "      <th>Operational Cost</th>\n",
       "      <th>Headcount</th>\n",
       "      <th>FullTime_Prop</th>\n",
       "      <th>PartTime_Prop</th>\n",
       "      <th>Intern_Prop</th>\n",
       "      <th>Contract_Prop</th>\n",
       "      <th>Turnover_Rate</th>\n",
       "      <th>Pandemic_Period_0</th>\n",
       "      <th>Pandemic_Period_1</th>\n",
       "      <th>Pandemic_Period_2</th>\n",
       "    </tr>\n",
       "  </thead>\n",
       "  <tbody>\n",
       "    <tr>\n",
       "      <th>0</th>\n",
       "      <td>201901</td>\n",
       "      <td>240422</td>\n",
       "      <td>16413</td>\n",
       "      <td>835.0</td>\n",
       "      <td>38813</td>\n",
       "      <td>2360</td>\n",
       "      <td>5,367,754,214.01</td>\n",
       "      <td>296483.0</td>\n",
       "      <td>0.810913</td>\n",
       "      <td>0.055359</td>\n",
       "      <td>0.002816</td>\n",
       "      <td>0.130911</td>\n",
       "      <td>0.007960</td>\n",
       "      <td>1</td>\n",
       "      <td>0</td>\n",
       "      <td>0</td>\n",
       "    </tr>\n",
       "    <tr>\n",
       "      <th>1</th>\n",
       "      <td>201902</td>\n",
       "      <td>239957</td>\n",
       "      <td>16601</td>\n",
       "      <td>947.5</td>\n",
       "      <td>39278</td>\n",
       "      <td>2263</td>\n",
       "      <td>5,453,119,475.99</td>\n",
       "      <td>296783.5</td>\n",
       "      <td>0.808525</td>\n",
       "      <td>0.055936</td>\n",
       "      <td>0.003193</td>\n",
       "      <td>0.132346</td>\n",
       "      <td>0.007625</td>\n",
       "      <td>1</td>\n",
       "      <td>0</td>\n",
       "      <td>0</td>\n",
       "    </tr>\n",
       "    <tr>\n",
       "      <th>2</th>\n",
       "      <td>201903</td>\n",
       "      <td>239491</td>\n",
       "      <td>16789</td>\n",
       "      <td>1060.0</td>\n",
       "      <td>39743</td>\n",
       "      <td>3966</td>\n",
       "      <td>5,527,625,881.98</td>\n",
       "      <td>297083.0</td>\n",
       "      <td>0.806142</td>\n",
       "      <td>0.056513</td>\n",
       "      <td>0.003568</td>\n",
       "      <td>0.133777</td>\n",
       "      <td>0.013350</td>\n",
       "      <td>1</td>\n",
       "      <td>0</td>\n",
       "      <td>0</td>\n",
       "    </tr>\n",
       "    <tr>\n",
       "      <th>3</th>\n",
       "      <td>201904</td>\n",
       "      <td>240027</td>\n",
       "      <td>16749</td>\n",
       "      <td>1717.0</td>\n",
       "      <td>40032</td>\n",
       "      <td>3873</td>\n",
       "      <td>5,367,286,525.00</td>\n",
       "      <td>298525.0</td>\n",
       "      <td>0.804043</td>\n",
       "      <td>0.056106</td>\n",
       "      <td>0.005752</td>\n",
       "      <td>0.134099</td>\n",
       "      <td>0.012974</td>\n",
       "      <td>1</td>\n",
       "      <td>0</td>\n",
       "      <td>0</td>\n",
       "    </tr>\n",
       "    <tr>\n",
       "      <th>4</th>\n",
       "      <td>201905</td>\n",
       "      <td>240027</td>\n",
       "      <td>16749</td>\n",
       "      <td>1717.0</td>\n",
       "      <td>40032</td>\n",
       "      <td>4029</td>\n",
       "      <td>5,427,404,579.99</td>\n",
       "      <td>298525.0</td>\n",
       "      <td>0.804043</td>\n",
       "      <td>0.056106</td>\n",
       "      <td>0.005752</td>\n",
       "      <td>0.134099</td>\n",
       "      <td>0.013496</td>\n",
       "      <td>1</td>\n",
       "      <td>0</td>\n",
       "      <td>0</td>\n",
       "    </tr>\n",
       "  </tbody>\n",
       "</table>\n",
       "</div>"
      ],
      "text/plain": [
       "    Month  FullTime  PartTime  Intern  Contract  Terminate  Operational Cost  \\\n",
       "0  201901    240422     16413   835.0     38813       2360  5,367,754,214.01   \n",
       "1  201902    239957     16601   947.5     39278       2263  5,453,119,475.99   \n",
       "2  201903    239491     16789  1060.0     39743       3966  5,527,625,881.98   \n",
       "3  201904    240027     16749  1717.0     40032       3873  5,367,286,525.00   \n",
       "4  201905    240027     16749  1717.0     40032       4029  5,427,404,579.99   \n",
       "\n",
       "   Headcount  FullTime_Prop  PartTime_Prop  Intern_Prop  Contract_Prop  \\\n",
       "0   296483.0       0.810913       0.055359     0.002816       0.130911   \n",
       "1   296783.5       0.808525       0.055936     0.003193       0.132346   \n",
       "2   297083.0       0.806142       0.056513     0.003568       0.133777   \n",
       "3   298525.0       0.804043       0.056106     0.005752       0.134099   \n",
       "4   298525.0       0.804043       0.056106     0.005752       0.134099   \n",
       "\n",
       "   Turnover_Rate  Pandemic_Period_0  Pandemic_Period_1  Pandemic_Period_2  \n",
       "0       0.007960                  1                  0                  0  \n",
       "1       0.007625                  1                  0                  0  \n",
       "2       0.013350                  1                  0                  0  \n",
       "3       0.012974                  1                  0                  0  \n",
       "4       0.013496                  1                  0                  0  "
      ]
     },
     "execution_count": 15,
     "metadata": {},
     "output_type": "execute_result"
    }
   ],
   "source": [
    "df.head()"
   ]
  },
  {
   "cell_type": "code",
   "execution_count": 16,
   "id": "1932bffb-75f8-44b8-abfb-8361c6603531",
   "metadata": {},
   "outputs": [],
   "source": [
    "import statsmodels.api as sm"
   ]
  },
  {
   "cell_type": "code",
   "execution_count": 26,
   "id": "8d284791-fd6e-4a4a-ac33-03873bfc1e9f",
   "metadata": {},
   "outputs": [],
   "source": [
    "df = pd.read_csv(\"processed_data.csv\")"
   ]
  },
  {
   "cell_type": "code",
   "execution_count": 30,
   "id": "ccd56cec-50d2-472d-894b-4215b37a7658",
   "metadata": {},
   "outputs": [],
   "source": [
    "df[\"Operational Cost\"] = pd.to_numeric(df[\"Operational Cost\"], errors=\"coerce\")"
   ]
  },
  {
   "cell_type": "code",
   "execution_count": 31,
   "id": "4290f612-fc32-44bb-982b-412170b887df",
   "metadata": {
    "scrolled": true
   },
   "outputs": [
    {
     "data": {
      "text/plain": [
       "Month                  int64\n",
       "FullTime               int64\n",
       "PartTime               int64\n",
       "Intern               float64\n",
       "Contract               int64\n",
       "Terminate              int64\n",
       "Operational Cost       int64\n",
       "Headcount            float64\n",
       "FullTime_Prop        float64\n",
       "PartTime_Prop        float64\n",
       "Intern_Prop          float64\n",
       "Contract_Prop        float64\n",
       "Turnover_Rate        float64\n",
       "Pandemic_Period_0      int64\n",
       "Pandemic_Period_1      int64\n",
       "Pandemic_Period_2      int64\n",
       "dtype: object"
      ]
     },
     "execution_count": 31,
     "metadata": {},
     "output_type": "execute_result"
    }
   ],
   "source": [
    "df.dtypes"
   ]
  },
  {
   "cell_type": "code",
   "execution_count": 32,
   "id": "a9faaa04-f579-4909-a7d7-06dd6cae5920",
   "metadata": {},
   "outputs": [],
   "source": [
    "# --- Statistical Model Training ---\n",
    "# Define independent variables (X) and dependent variable (y)\n",
    "X = df[[\"Operational Cost\", \"FullTime_Prop\", \"PartTime_Prop\", \"Intern_Prop\", \"Contract_Prop\", \"Pandemic_Period_0\",\"Pandemic_Period_1\",\"Pandemic_Period_2\"]]\n",
    "y = df[\"Turnover_Rate\"]"
   ]
  },
  {
   "cell_type": "code",
   "execution_count": 33,
   "id": "789cda71-5f33-4955-92e6-ed98b7d7a428",
   "metadata": {},
   "outputs": [
    {
     "name": "stdout",
     "output_type": "stream",
     "text": [
      "float64\n"
     ]
    }
   ],
   "source": [
    "print(y.dtypes)"
   ]
  },
  {
   "cell_type": "code",
   "execution_count": 34,
   "id": "742bfe24-9c94-45fc-b459-f7eb25ce6c3e",
   "metadata": {},
   "outputs": [
    {
     "name": "stdout",
     "output_type": "stream",
     "text": [
      "Operational Cost       int64\n",
      "FullTime_Prop        float64\n",
      "PartTime_Prop        float64\n",
      "Intern_Prop          float64\n",
      "Contract_Prop        float64\n",
      "Pandemic_Period_0      int64\n",
      "Pandemic_Period_1      int64\n",
      "Pandemic_Period_2      int64\n",
      "dtype: object\n"
     ]
    }
   ],
   "source": [
    "print(X.dtypes)"
   ]
  },
  {
   "cell_type": "code",
   "execution_count": null,
   "id": "330af2cd-c3e3-4c60-aefc-bccdb52125b6",
   "metadata": {},
   "outputs": [],
   "source": []
  },
  {
   "cell_type": "code",
   "execution_count": 35,
   "id": "ef356540-fad4-47a9-b8d6-01a78638627c",
   "metadata": {
    "scrolled": true
   },
   "outputs": [
    {
     "name": "stdout",
     "output_type": "stream",
     "text": [
      "                            OLS Regression Results                            \n",
      "==============================================================================\n",
      "Dep. Variable:          Turnover_Rate   R-squared:                       0.595\n",
      "Model:                            OLS   Adj. R-squared:                  0.549\n",
      "Method:                 Least Squares   F-statistic:                     12.98\n",
      "Date:                Sun, 16 Feb 2025   Prob (F-statistic):           5.77e-09\n",
      "Time:                        18:00:18   Log-Likelihood:                 294.97\n",
      "No. Observations:                  60   AIC:                            -575.9\n",
      "Df Residuals:                      53   BIC:                            -561.3\n",
      "Df Model:                           6                                         \n",
      "Covariance Type:            nonrobust                                         \n",
      "=====================================================================================\n",
      "                        coef    std err          t      P>|t|      [0.025      0.975]\n",
      "-------------------------------------------------------------------------------------\n",
      "const                 0.0524      0.022      2.373      0.021       0.008       0.097\n",
      "Operational Cost  -1.172e-12   5.18e-13     -2.265      0.028   -2.21e-12   -1.34e-13\n",
      "FullTime_Prop        -0.1086      0.039     -2.761      0.008      -0.187      -0.030\n",
      "PartTime_Prop        -0.1784      0.122     -1.463      0.149      -0.423       0.066\n",
      "Intern_Prop           0.0220      0.056      0.395      0.694      -0.090       0.134\n",
      "Contract_Prop         0.3173      0.059      5.418      0.000       0.200       0.435\n",
      "Pandemic_Period_0     0.0202      0.007      2.873      0.006       0.006       0.034\n",
      "Pandemic_Period_1     0.0180      0.007      2.482      0.016       0.003       0.033\n",
      "Pandemic_Period_2     0.0142      0.008      1.800      0.077      -0.002       0.030\n",
      "==============================================================================\n",
      "Omnibus:                        0.168   Durbin-Watson:                   1.380\n",
      "Prob(Omnibus):                  0.920   Jarque-Bera (JB):                0.367\n",
      "Skew:                          -0.040   Prob(JB):                        0.832\n",
      "Kurtosis:                       2.625   Cond. No.                     4.60e+25\n",
      "==============================================================================\n",
      "\n",
      "Notes:\n",
      "[1] Standard Errors assume that the covariance matrix of the errors is correctly specified.\n",
      "[2] The smallest eigenvalue is 1.07e-30. This might indicate that there are\n",
      "strong multicollinearity problems or that the design matrix is singular.\n"
     ]
    }
   ],
   "source": [
    "# Add a constant term to the model (intercept)\n",
    "X = sm.add_constant(X)\n",
    "\n",
    "# Fit the OLS regression model\n",
    "model = sm.OLS(y, X).fit()\n",
    "\n",
    "# Print the summary of the regression model\n",
    "print(model.summary())\n"
   ]
  },
  {
   "cell_type": "code",
   "execution_count": 25,
   "id": "b6327a9b-36b3-4d43-9abf-5c889079b85e",
   "metadata": {},
   "outputs": [],
   "source": [
    "df.to_csv(\"processed_data.csv\", index=False)"
   ]
  },
  {
   "cell_type": "code",
   "execution_count": 27,
   "id": "dc301cbc-809e-457e-81c7-ab4b6787c356",
   "metadata": {},
   "outputs": [
    {
     "data": {
      "text/html": [
       "<div>\n",
       "<style scoped>\n",
       "    .dataframe tbody tr th:only-of-type {\n",
       "        vertical-align: middle;\n",
       "    }\n",
       "\n",
       "    .dataframe tbody tr th {\n",
       "        vertical-align: top;\n",
       "    }\n",
       "\n",
       "    .dataframe thead th {\n",
       "        text-align: right;\n",
       "    }\n",
       "</style>\n",
       "<table border=\"1\" class=\"dataframe\">\n",
       "  <thead>\n",
       "    <tr style=\"text-align: right;\">\n",
       "      <th></th>\n",
       "      <th>Month</th>\n",
       "      <th>FullTime</th>\n",
       "      <th>PartTime</th>\n",
       "      <th>Intern</th>\n",
       "      <th>Contract</th>\n",
       "      <th>Terminate</th>\n",
       "      <th>Operational Cost</th>\n",
       "      <th>Headcount</th>\n",
       "      <th>FullTime_Prop</th>\n",
       "      <th>PartTime_Prop</th>\n",
       "      <th>Intern_Prop</th>\n",
       "      <th>Contract_Prop</th>\n",
       "      <th>Turnover_Rate</th>\n",
       "      <th>Pandemic_Period_0</th>\n",
       "      <th>Pandemic_Period_1</th>\n",
       "      <th>Pandemic_Period_2</th>\n",
       "    </tr>\n",
       "  </thead>\n",
       "  <tbody>\n",
       "    <tr>\n",
       "      <th>0</th>\n",
       "      <td>201901</td>\n",
       "      <td>240422</td>\n",
       "      <td>16413</td>\n",
       "      <td>835.0</td>\n",
       "      <td>38813</td>\n",
       "      <td>2360</td>\n",
       "      <td>5367754214</td>\n",
       "      <td>296483.0</td>\n",
       "      <td>0.810913</td>\n",
       "      <td>0.055359</td>\n",
       "      <td>0.002816</td>\n",
       "      <td>0.130911</td>\n",
       "      <td>0.007960</td>\n",
       "      <td>1</td>\n",
       "      <td>0</td>\n",
       "      <td>0</td>\n",
       "    </tr>\n",
       "    <tr>\n",
       "      <th>1</th>\n",
       "      <td>201902</td>\n",
       "      <td>239957</td>\n",
       "      <td>16601</td>\n",
       "      <td>947.5</td>\n",
       "      <td>39278</td>\n",
       "      <td>2263</td>\n",
       "      <td>5453119476</td>\n",
       "      <td>296783.5</td>\n",
       "      <td>0.808525</td>\n",
       "      <td>0.055936</td>\n",
       "      <td>0.003193</td>\n",
       "      <td>0.132346</td>\n",
       "      <td>0.007625</td>\n",
       "      <td>1</td>\n",
       "      <td>0</td>\n",
       "      <td>0</td>\n",
       "    </tr>\n",
       "    <tr>\n",
       "      <th>2</th>\n",
       "      <td>201903</td>\n",
       "      <td>239491</td>\n",
       "      <td>16789</td>\n",
       "      <td>1060.0</td>\n",
       "      <td>39743</td>\n",
       "      <td>3966</td>\n",
       "      <td>5527625882</td>\n",
       "      <td>297083.0</td>\n",
       "      <td>0.806142</td>\n",
       "      <td>0.056513</td>\n",
       "      <td>0.003568</td>\n",
       "      <td>0.133777</td>\n",
       "      <td>0.013350</td>\n",
       "      <td>1</td>\n",
       "      <td>0</td>\n",
       "      <td>0</td>\n",
       "    </tr>\n",
       "    <tr>\n",
       "      <th>3</th>\n",
       "      <td>201904</td>\n",
       "      <td>240027</td>\n",
       "      <td>16749</td>\n",
       "      <td>1717.0</td>\n",
       "      <td>40032</td>\n",
       "      <td>3873</td>\n",
       "      <td>5367286525</td>\n",
       "      <td>298525.0</td>\n",
       "      <td>0.804043</td>\n",
       "      <td>0.056106</td>\n",
       "      <td>0.005752</td>\n",
       "      <td>0.134099</td>\n",
       "      <td>0.012974</td>\n",
       "      <td>1</td>\n",
       "      <td>0</td>\n",
       "      <td>0</td>\n",
       "    </tr>\n",
       "    <tr>\n",
       "      <th>4</th>\n",
       "      <td>201905</td>\n",
       "      <td>240027</td>\n",
       "      <td>16749</td>\n",
       "      <td>1717.0</td>\n",
       "      <td>40032</td>\n",
       "      <td>4029</td>\n",
       "      <td>5427404580</td>\n",
       "      <td>298525.0</td>\n",
       "      <td>0.804043</td>\n",
       "      <td>0.056106</td>\n",
       "      <td>0.005752</td>\n",
       "      <td>0.134099</td>\n",
       "      <td>0.013496</td>\n",
       "      <td>1</td>\n",
       "      <td>0</td>\n",
       "      <td>0</td>\n",
       "    </tr>\n",
       "  </tbody>\n",
       "</table>\n",
       "</div>"
      ],
      "text/plain": [
       "    Month  FullTime  PartTime  Intern  Contract  Terminate  Operational Cost  \\\n",
       "0  201901    240422     16413   835.0     38813       2360        5367754214   \n",
       "1  201902    239957     16601   947.5     39278       2263        5453119476   \n",
       "2  201903    239491     16789  1060.0     39743       3966        5527625882   \n",
       "3  201904    240027     16749  1717.0     40032       3873        5367286525   \n",
       "4  201905    240027     16749  1717.0     40032       4029        5427404580   \n",
       "\n",
       "   Headcount  FullTime_Prop  PartTime_Prop  Intern_Prop  Contract_Prop  \\\n",
       "0   296483.0       0.810913       0.055359     0.002816       0.130911   \n",
       "1   296783.5       0.808525       0.055936     0.003193       0.132346   \n",
       "2   297083.0       0.806142       0.056513     0.003568       0.133777   \n",
       "3   298525.0       0.804043       0.056106     0.005752       0.134099   \n",
       "4   298525.0       0.804043       0.056106     0.005752       0.134099   \n",
       "\n",
       "   Turnover_Rate  Pandemic_Period_0  Pandemic_Period_1  Pandemic_Period_2  \n",
       "0       0.007960                  1                  0                  0  \n",
       "1       0.007625                  1                  0                  0  \n",
       "2       0.013350                  1                  0                  0  \n",
       "3       0.012974                  1                  0                  0  \n",
       "4       0.013496                  1                  0                  0  "
      ]
     },
     "execution_count": 27,
     "metadata": {},
     "output_type": "execute_result"
    }
   ],
   "source": [
    "df.head()"
   ]
  },
  {
   "cell_type": "code",
   "execution_count": 28,
   "id": "9089357a-4779-4182-88db-868209417b12",
   "metadata": {
    "scrolled": true
   },
   "outputs": [
    {
     "name": "stdout",
     "output_type": "stream",
     "text": [
      "const                 0\n",
      "Operational Cost     60\n",
      "FullTime_Prop         0\n",
      "PartTime_Prop         0\n",
      "Intern_Prop           0\n",
      "Contract_Prop         0\n",
      "Pandemic_Period_0     0\n",
      "Pandemic_Period_1     0\n",
      "Pandemic_Period_2     0\n",
      "dtype: int64\n"
     ]
    }
   ],
   "source": [
    "print(X.isnull().sum())  # Check for NaNs"
   ]
  },
  {
   "cell_type": "code",
   "execution_count": null,
   "id": "669f7987-dadb-45d8-b580-ffc18fe37e2d",
   "metadata": {},
   "outputs": [],
   "source": [
    "# df['Pandemic_Period'] = df['Pandemic_Period'].astype('category')"
   ]
  },
  {
   "cell_type": "code",
   "execution_count": null,
   "id": "377a792f-eb8f-42e7-ac92-cea2f4bbff9f",
   "metadata": {},
   "outputs": [],
   "source": [
    "df['Pandemic_Period'] = df['Pandemic_Period'].cat.codes"
   ]
  },
  {
   "cell_type": "code",
   "execution_count": null,
   "id": "4ecb37b9-c877-4867-ae40-6938f2782600",
   "metadata": {},
   "outputs": [],
   "source": [
    "df[\"Operational Cost\"] = pd.to_numeric(df[\"Operational Cost\"], errors=\"coerce\")"
   ]
  },
  {
   "cell_type": "code",
   "execution_count": null,
   "id": "a4a068dd-6896-46f5-a7fd-2e80c4058225",
   "metadata": {},
   "outputs": [],
   "source": [
    "df = pd.get_dummies(df, columns=['Pandemic_Period'], drop_first=True)"
   ]
  },
  {
   "cell_type": "code",
   "execution_count": null,
   "id": "3dc5c0d5-89cb-4a8d-b24a-ff60aaca704c",
   "metadata": {},
   "outputs": [],
   "source": [
    "df.head()"
   ]
  },
  {
   "cell_type": "code",
   "execution_count": null,
   "id": "8e2ad320-5ef8-4e46-9a02-31b0dd80e694",
   "metadata": {},
   "outputs": [],
   "source": [
    "df.columns"
   ]
  },
  {
   "cell_type": "code",
   "execution_count": null,
   "id": "32aa725d-0bf9-49a6-920f-9fe76d1e0ff6",
   "metadata": {
    "jupyter": {
     "source_hidden": true
    }
   },
   "outputs": [],
   "source": [
    "###visualization"
   ]
  },
  {
   "cell_type": "code",
   "execution_count": 36,
   "id": "915982d8-79e2-48ce-afc8-9d2d58f06046",
   "metadata": {},
   "outputs": [
    {
     "data": {
      "image/png": "[encoded data removed]",
      "text/plain": [
       "<Figure size 1000x600 with 1 Axes>"
      ]
     },
     "metadata": {},
     "output_type": "display_data"
    }
   ],
   "source": [
    "import matplotlib.pyplot as plt\n",
    "import pandas as pd\n",
    "\n",
    "# Assuming your data is in a pandas DataFrame called df\n",
    "# Stacked Bar Plot for Workforce Distribution\n",
    "df.set_index('Month')[['FullTime', 'PartTime', 'Intern', 'Contract']].plot(kind='bar', stacked=True, figsize=(10, 6))\n",
    "plt.title('Workforce Distribution by Type Over Time')\n",
    "plt.xlabel('Month')\n",
    "plt.ylabel('Number of Employees')\n",
    "plt.legend(title='Worker Type')\n",
    "plt.tight_layout()\n",
    "plt.show()"
   ]
  },
  {
   "cell_type": "code",
   "execution_count": 40,
   "id": "8e6f495c-e51d-449e-aee0-b644b908d03a",
   "metadata": {},
   "outputs": [
    {
     "data": {
      "image/png": "[encoded data removed]",
      "text/plain": [
       "<Figure size 1000x600 with 1 Axes>"
      ]
     },
     "metadata": {},
     "output_type": "display_data"
    }
   ],
   "source": [
    "plt.figure(figsize=(10, 6))\n",
    "# Convert the 'Month' column to datetime\n",
    "df['Month'] = pd.to_datetime(df['Month'].astype(str), format='%Y%m')\n",
    "plt.plot(df['Month'], df['Turnover_Rate'], marker='o', color='tab:orange')\n",
    "plt.title('Figure 1: Turnover Rate Over Time')\n",
    "plt.xlabel('Month')\n",
    "plt.ylabel('Turnover Rate')\n",
    "plt.grid(True)\n",
    "plt.tight_layout()\n",
    "plt.show()"
   ]
  },
  {
   "cell_type": "code",
   "execution_count": 41,
   "id": "5d1c3b00-d4b0-472b-abba-3e35efdb3a33",
   "metadata": {},
   "outputs": [
    {
     "data": {
      "image/png": "[encoded data removed]",
      "text/plain": [
       "<Figure size 1000x600 with 2 Axes>"
      ]
     },
     "metadata": {},
     "output_type": "display_data"
    }
   ],
   "source": [
    "import seaborn as sns\n",
    "\n",
    "# Selecting relevant columns for the heatmap\n",
    "correlation_data = df[['Operational Cost', 'Headcount', 'Turnover_Rate', 'FullTime_Prop', 'PartTime_Prop', 'Intern_Prop', 'Contract_Prop']]\n",
    "\n",
    "# Creating the heatmap\n",
    "plt.figure(figsize=(10, 6))\n",
    "sns.heatmap(correlation_data.corr(), annot=True, cmap='coolwarm', vmin=-1, vmax=1)\n",
    "plt.title('Correlation Heatmap of Workforce and Operational Metrics')\n",
    "plt.tight_layout()\n",
    "plt.show()"
   ]
  },
  {
   "cell_type": "code",
   "execution_count": null,
   "id": "fe3c9126-5c66-4487-8f1d-c5054a1f8753",
   "metadata": {},
   "outputs": [],
   "source": []
  }
 ],
 "metadata": {
  "kernelspec": {
   "display_name": "Python 3 (ipykernel)",
   "language": "python",
   "name": "python3"
  },
  "language_info": {
   "codemirror_mode": {
    "name": "ipython",
    "version": 3
   },
   "file_extension": ".py",
   "mimetype": "text/x-python",
   "name": "python",
   "nbconvert_exporter": "python",
   "pygments_lexer": "ipython3",
   "version": "3.12.7"
  }
 },
 "nbformat": 4,
 "nbformat_minor": 5
}
